{
 "cells": [
  {
   "cell_type": "markdown",
   "id": "b87856dc-e93f-43ae-95e0-096bb6c967e1",
   "metadata": {},
   "source": [
    "PROBLEM"
   ]
  },
  {
   "cell_type": "code",
   "execution_count": null,
   "id": "10664969-8acc-44d6-ab3f-9d433479c5b5",
   "metadata": {},
   "outputs": [],
   "source": [
    "!pip install streamlit"
   ]
  },
  {
   "cell_type": "code",
   "execution_count": null,
   "id": "d72b1279-6229-4e69-b1e7-fcad403a435c",
   "metadata": {},
   "outputs": [],
   "source": [
    "import numpy as np\n",
    "import pandas as pd\n",
    "import matplotlib.pyplot as plt\n",
    "import seaborn as sns\n",
    "from sklearn.model_selection import train_test_split\n",
    "from sklearn.tree import DecisionTreeClassifier\n",
    "from sklearn.metrics import accuracy_score,precision_score,recall_score,f1_score,roc_auc_score,confusion_matrix"
   ]
  },
  {
   "cell_type": "code",
   "execution_count": null,
   "id": "e3e7347a-8249-4095-9254-1143f52703f9",
   "metadata": {},
   "outputs": [],
   "source": [
    "data=pd.read_csv(r\"C:\\Users\\HP\\Downloads\\Heart_Disease_Dataset.csv\")"
   ]
  },
  {
   "cell_type": "code",
   "execution_count": null,
   "id": "f7a06339-92f3-4f19-8141-a34634b808d2",
   "metadata": {},
   "outputs": [],
   "source": [
    "data"
   ]
  },
  {
   "cell_type": "code",
   "execution_count": null,
   "id": "9b4ca3d6-4e84-4898-b897-b5aaa7dbe208",
   "metadata": {},
   "outputs": [],
   "source": [
    "data.head()"
   ]
  },
  {
   "cell_type": "code",
   "execution_count": null,
   "id": "11c4824e-0462-472a-abbc-2b1032f6f7dd",
   "metadata": {},
   "outputs": [],
   "source": [
    "data.tail()"
   ]
  },
  {
   "cell_type": "code",
   "execution_count": null,
   "id": "979ccfe3-8fd2-4412-80d4-bdf3b12c7f0b",
   "metadata": {},
   "outputs": [],
   "source": [
    "data.info()"
   ]
  },
  {
   "cell_type": "code",
   "execution_count": null,
   "id": "13166e1e-b6eb-48e8-828d-dcf75769a647",
   "metadata": {},
   "outputs": [],
   "source": [
    "data.shape"
   ]
  },
  {
   "cell_type": "code",
   "execution_count": null,
   "id": "7fd1b546-d320-4152-89c9-27ec12b3c7ca",
   "metadata": {},
   "outputs": [],
   "source": [
    "data.describe()"
   ]
  },
  {
   "cell_type": "code",
   "execution_count": null,
   "id": "37762ee9-8cb5-483f-b718-73f0620b3adc",
   "metadata": {},
   "outputs": [],
   "source": [
    "\n",
    "\n",
    "data.isnull().sum()"
   ]
  },
  {
   "cell_type": "code",
   "execution_count": null,
   "id": "11ebec7c-de1e-4921-ae63-9004ab5eebe9",
   "metadata": {},
   "outputs": [],
   "source": [
    "data.duplicated()"
   ]
  },
  {
   "cell_type": "code",
   "execution_count": null,
   "id": "4f70817a-6598-48cd-b174-f4394185751c",
   "metadata": {},
   "outputs": [],
   "source": [
    "len(data[data.duplicated()])"
   ]
  },
  {
   "cell_type": "code",
   "execution_count": null,
   "id": "5b92a5de-4bf0-4c3c-aa35-49939bc895fe",
   "metadata": {},
   "outputs": [],
   "source": [
    "data.columns"
   ]
  },
  {
   "cell_type": "code",
   "execution_count": null,
   "id": "83c278a9-fc49-4ae9-8068-425eaf9bd6a7",
   "metadata": {},
   "outputs": [],
   "source": [
    "for column in data.columns:\n",
    "    print(data[column].value_counts())"
   ]
  },
  {
   "cell_type": "code",
   "execution_count": null,
   "id": "7df0e2ca-dabc-40fb-af5c-02deef029488",
   "metadata": {},
   "outputs": [],
   "source": [
    "data.columns"
   ]
  },
  {
   "cell_type": "code",
   "execution_count": null,
   "id": "b7084079-f106-41e3-a55a-5109cd9832b8",
   "metadata": {},
   "outputs": [],
   "source": [
    "data=pd.get_dummies(data,columns=['Diabetic'],drop_first=True)\n",
    "data.head()"
   ]
  },
  {
   "cell_type": "code",
   "execution_count": null,
   "id": "03aa9bca-eaec-4157-9fcd-6fc0219bc465",
   "metadata": {},
   "outputs": [],
   "source": [
    "binary_columns=[\"Smoking\",\"AlcoholDrinking\",\"Stroke\",\"DiffWalking\",'PhysicalActivity',\"Asthma\",'KidneyDisease', 'SkinCancer']\n",
    "for col in binary_columns:\n",
    "    data[col]=data[col].map({'Yes':1,\"No\":0})"
   ]
  },
  {
   "cell_type": "code",
   "execution_count": null,
   "id": "bf1af529-d22f-491d-8d12-64e14bc63208",
   "metadata": {},
   "outputs": [],
   "source": [
    "binary_columns"
   ]
  },
  {
   "cell_type": "code",
   "execution_count": null,
   "id": "4d7029f3-66ea-4bf3-836d-dbd408b3376a",
   "metadata": {},
   "outputs": [],
   "source": [
    "data=pd.get_dummies(data,columns=['Sex',\"AgeCategory\",\"Race\",\"GenHealth\"],drop_first=True)"
   ]
  },
  {
   "cell_type": "code",
   "execution_count": null,
   "id": "9305193b-d464-4402-a3e9-87888131f356",
   "metadata": {},
   "outputs": [],
   "source": [
    "data.head()"
   ]
  },
  {
   "cell_type": "code",
   "execution_count": null,
   "id": "22b2a032-715a-4c9b-97c4-4ec5a659b238",
   "metadata": {},
   "outputs": [],
   "source": [
    "data.isnull().sum()"
   ]
  },
  {
   "cell_type": "code",
   "execution_count": null,
   "id": "9f88078f-5d9c-427a-a567-2fe3e1523a90",
   "metadata": {},
   "outputs": [],
   "source": [
    "X=data.drop(columns=['HeartDisease'])\n",
    "y=data['HeartDisease'].map({\"Yes\":1,\"No\":0})"
   ]
  },
  {
   "cell_type": "code",
   "execution_count": null,
   "id": "e04f4649-affb-475f-94f8-be31f5ad5b95",
   "metadata": {},
   "outputs": [],
   "source": [
    "X_train,X_test,y_train,y_test=train_test_split(X,y,test_size=0.20,random_state=42)"
   ]
  },
  {
   "cell_type": "code",
   "execution_count": null,
   "id": "3dfed76f-5623-46b3-931e-67c9b71c18dd",
   "metadata": {},
   "outputs": [],
   "source": [
    "clf=DecisionTreeClassifier(max_depth=5,criterion='gini',random_state=42)\n",
    "clf.fit(X_train,y_train)"
   ]
  },
  {
   "cell_type": "code",
   "execution_count": null,
   "id": "7f764c00-f2f1-4ec3-9be7-853343719c42",
   "metadata": {},
   "outputs": [],
   "source": [
    "y_pred=clf.predict(X_test)"
   ]
  },
  {
   "cell_type": "code",
   "execution_count": null,
   "id": "f06a8a98-1e21-4d53-92ac-ec76b6b1b986",
   "metadata": {},
   "outputs": [],
   "source": [
    "# Calculate evaluation metrics\n",
    "accuracy = accuracy_score(y_test, y_pred)\n",
    "precision = precision_score(y_test, y_pred)\n",
    "recall = recall_score(y_test, y_pred)\n",
    "f1 = f1_score(y_test, y_pred)\n",
    "roc_auc = roc_auc_score(y_test, y_pred)\n",
    "\n",
    "# Print metrics\n",
    "print(f\"Accuracy: {accuracy:.2f}\")\n",
    "print(f\"Precision: {precision:.2f}\")\n",
    "print(f\"Recall: {recall:.2f}\")\n",
    "print(f\"F1-Score: {f1:.2f}\")\n",
    "print(f\"AUC-ROC: {roc_auc:.2f}\")\n",
    "\n",
    "# Confusion Matrix\n",
    "cm = confusion_matrix(y_test, y_pred)\n",
    "sns.heatmap(cm, annot=True, fmt='d', cmap='Blues')\n",
    "plt.title(\"Confusion Matrix\")\n",
    "plt.xlabel(\"Predicted\")\n",
    "plt.ylabel(\"Actual\")\n",
    "plt.show()"
   ]
  },
  {
   "cell_type": "code",
   "execution_count": null,
   "id": "8b34df9f-30dd-45b1-98c6-ed19462756de",
   "metadata": {},
   "outputs": [],
   "source": [
    "%%writefile app.py\n",
    "\n",
    "import streamlit as st\n",
    "import pandas as pd\n",
    "import numpy as np\n",
    "from sklearn.tree import DecisionTreeClassifier\n",
    "from sklearn.model_selection import train_test_split\n",
    "from imblearn.over_sampling import SMOTE\n",
    "\n",
    "# Load and preprocess the dataset\n",
    "data = pd.read_csv(r\"C:\\Users\\HP\\Downloads\\Heart_Disease_Dataset.csv\")  # Replace with your actual dataset path\n",
    "\n",
    "# Preprocessing steps\n",
    "binary_columns = ['Smoking', 'AlcoholDrinking', 'Stroke', 'DiffWalking', 'PhysicalActivity', 'Asthma', 'KidneyDisease', 'SkinCancer']\n",
    "for col in binary_columns:\n",
    "    data[col] = data[col].map({'Yes': 1, 'No': 0})\n",
    "\n",
    "# One-hot encode categorical columns\n",
    "data = pd.get_dummies(data, columns=['Sex', 'AgeCategory', 'Race', 'GenHealth', 'Diabetic'], drop_first=True)\n",
    "\n",
    "# Define features and target\n",
    "X = data.drop(columns=['HeartDisease'])\n",
    "y = data['HeartDisease'].map({'Yes': 1, 'No': 0})\n",
    "\n",
    "# Balance the dataset using SMOTE\n",
    "smote = SMOTE(random_state=42)\n",
    "X_resampled, y_resampled = smote.fit_resample(X, y)\n",
    "\n",
    "# Split into train and test sets\n",
    "X_train, X_test, y_train, y_test = train_test_split(X_resampled, y_resampled, test_size=0.2, random_state=42)\n",
    "\n",
    "# Train the Decision Tree Classifier\n",
    "clf = DecisionTreeClassifier(random_state=42)\n",
    "clf.fit(X_train, y_train)\n",
    "\n",
    "# Function to make predictions\n",
    "def predict_heart_disease(input_data):\n",
    "    # Create a DataFrame with the input data\n",
    "    input_df = pd.DataFrame([input_data], columns=X.columns)\n",
    "\n",
    "    # Ensure all columns are present (fill missing columns with 0)\n",
    "    for col in X.columns:\n",
    "        if col not in input_df.columns:\n",
    "            input_df[col] = 0\n",
    "\n",
    "    # Reorder columns to match the model's expectations\n",
    "    input_df = input_df[X.columns]\n",
    "\n",
    "    # Make prediction\n",
    "    prediction = clf.predict(input_df)\n",
    "    return \"Yes\" if prediction[0] == 1 else \"No\"\n",
    "\n",
    "# Streamlit app\n",
    "st.title(\"Heart Disease Prediction\")\n",
    "\n",
    "# Input fields\n",
    "bmi = st.number_input(\"BMI\", min_value=0.0, max_value=100.0, value=25.0)\n",
    "smoking = st.selectbox(\"Smoking\", [0, 1])\n",
    "alcohol_drinking = st.selectbox(\"Alcohol Drinking\", [0, 1])\n",
    "stroke = st.selectbox(\"Stroke\", [0, 1])\n",
    "physical_health = st.number_input(\"Physical Health (Days Not Good in Past 30)\", min_value=0, max_value=30, value=0)\n",
    "mental_health = st.number_input(\"Mental Health (Days Not Good in Past 30)\", min_value=0, max_value=30, value=0)\n",
    "diff_walking = st.selectbox(\"Difficulty Walking\", [0, 1])\n",
    "sex = st.selectbox(\"Sex\", [\"Female\", \"Male\"])\n",
    "age_category = st.selectbox(\"Age Category\", [\"25-29\", \"30-34\", \"35-39\", \"40-44\", \"50-54\", \"70-74\"])\n",
    "race = st.selectbox(\"Race\", [\"White\", \"Hispanic\", \"Black\", \"Asian\", \"American Indian/Alaskan Native\"])\n",
    "diabetic = st.selectbox(\"Diabetic Status\", [\"No\", \"No, borderline diabetes\", \"Yes (during pregnancy)\", \"Yes\"])\n",
    "physical_activity = st.selectbox(\"Physical Activity\", [0, 1])\n",
    "gen_health = st.selectbox(\"General Health\", [\"Poor\", \"Fair\", \"Good\", \"Very Good\", \"Excellent\"])\n",
    "sleep_time = st.number_input(\"Sleep Time (Hours)\", min_value=0, max_value=24, value=7)\n",
    "asthma = st.selectbox(\"Asthma\", [0, 1])\n",
    "kidney_disease = st.selectbox(\"Kidney Disease\", [0, 1])\n",
    "skin_cancer = st.selectbox(\"Skin Cancer\", [0, 1])\n",
    "\n",
    "# Prepare input data\n",
    "input_data = {\n",
    "    'BMI': bmi,\n",
    "    'Smoking': smoking,\n",
    "    'AlcoholDrinking': alcohol_drinking,\n",
    "    'Stroke': stroke,\n",
    "    'PhysicalHealth': physical_health,\n",
    "    'MentalHealth': mental_health,\n",
    "    'DiffWalking': diff_walking,\n",
    "    'Sex_Male': 1 if sex == \"Male\" else 0,\n",
    "    'AgeCategory_30-34': 1 if age_category == \"30-34\" else 0,\n",
    "    'AgeCategory_35-39': 1 if age_category == \"35-39\" else 0,\n",
    "    'AgeCategory_40-44': 1 if age_category == \"40-44\" else 0,\n",
    "    'AgeCategory_50-54': 1 if age_category == \"50-54\" else 0,\n",
    "    'AgeCategory_70-74': 1 if age_category == \"70-74\" else 0,\n",
    "    'Race_Hispanic': 1 if race == \"Hispanic\" else 0,\n",
    "    'Race_Black': 1 if race == \"Black\" else 0,\n",
    "    'Race_Asian': 1 if race == \"Asian\" else 0,\n",
    "    'Race_American Indian/Alaskan Native': 1 if race == \"American Indian/Alaskan Native\" else 0,\n",
    "    'Diabetic_No, borderline diabetes': 1 if diabetic == \"No, borderline diabetes\" else 0,\n",
    "    'Diabetic_Yes (during pregnancy)': 1 if diabetic == \"Yes (during pregnancy)\" else 0,\n",
    "    'Diabetic_Yes': 1 if diabetic == \"Yes\" else 0,\n",
    "    'PhysicalActivity': physical_activity,\n",
    "    'GenHealth_Fair': 1 if gen_health == \"Fair\" else 0,\n",
    "    'GenHealth_Good': 1 if gen_health == \"Good\" else 0,\n",
    "    'GenHealth_Very Good': 1 if gen_health == \"Very Good\" else 0,\n",
    "    'GenHealth_Excellent': 1 if gen_health == \"Excellent\" else 0,\n",
    "    'SleepTime': sleep_time,\n",
    "    'Asthma': asthma,\n",
    "    'KidneyDisease': kidney_disease,\n",
    "    'SkinCancer': skin_cancer\n",
    "}\n",
    "\n",
    "# Predict button\n",
    "if st.button(\"Predict\"):\n",
    "    result = predict_heart_disease(input_data)\n",
    "    st.write(f\"Heart Disease Prediction: {result}\")"
   ]
  },
  {
   "cell_type": "code",
   "execution_count": null,
   "id": "f2882cda-9e1d-4272-b644-ee240e082db2",
   "metadata": {},
   "outputs": [],
   "source": [
    "! streamlit run app.py"
   ]
  },
  {
   "cell_type": "code",
   "execution_count": null,
   "id": "e1f6eb3b-f6e0-4ad8-9eba-662c0fc2218f",
   "metadata": {},
   "outputs": [],
   "source": []
  },
  {
   "cell_type": "code",
   "execution_count": null,
   "id": "6a1d6d0d-7b85-4f20-a8f8-4abee32ebd8c",
   "metadata": {},
   "outputs": [],
   "source": []
  },
  {
   "cell_type": "code",
   "execution_count": null,
   "id": "00d7b6b2-a631-4bb4-bf28-709e240a5f18",
   "metadata": {},
   "outputs": [],
   "source": []
  },
  {
   "cell_type": "code",
   "execution_count": null,
   "id": "2f171620-d7bf-42cd-935c-b18573a56131",
   "metadata": {},
   "outputs": [],
   "source": []
  },
  {
   "cell_type": "code",
   "execution_count": null,
   "id": "c60f7829-928f-467f-a1ef-37cd02cf0bdb",
   "metadata": {},
   "outputs": [],
   "source": []
  },
  {
   "cell_type": "code",
   "execution_count": null,
   "id": "1f9f2398-d545-40a7-bd39-4f008a3708ac",
   "metadata": {},
   "outputs": [],
   "source": []
  }
 ],
 "metadata": {
  "kernelspec": {
   "display_name": "Python [conda env:base] *",
   "language": "python",
   "name": "conda-base-py"
  },
  "language_info": {
   "codemirror_mode": {
    "name": "ipython",
    "version": 3
   },
   "file_extension": ".py",
   "mimetype": "text/x-python",
   "name": "python",
   "nbconvert_exporter": "python",
   "pygments_lexer": "ipython3",
   "version": "3.12.7"
  }
 },
 "nbformat": 4,
 "nbformat_minor": 5
}
