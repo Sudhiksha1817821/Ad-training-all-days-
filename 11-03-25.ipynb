{
 "cells": [
  {
   "cell_type": "code",
   "execution_count": 1,
   "id": "a791f48e-18ec-4834-b35c-9cbcc78032e0",
   "metadata": {},
   "outputs": [],
   "source": [
    "from pandas import read_csv\n",
    "from sklearn.model_selection import KFold\n",
    "from sklearn.model_selection import cross_val_score\n",
    "from sklearn.ensemble import Random"
   ]
  },
  {
   "cell_type": "code",
   "execution_count": null,
   "id": "d74dd5d5-0eee-4e47-a2e9-895e5bfca6aa",
   "metadata": {},
   "outputs": [],
   "source": []
  },
  {
   "cell_type": "code",
   "execution_count": 9,
   "id": "621413a7-b052-445c-9d2b-da0325edd98e",
   "metadata": {},
   "outputs": [],
   "source": [
    "X=array[:,0:8]\n",
    "Y=array[:,8]"
   ]
  },
  {
   "cell_type": "code",
   "execution_count": null,
   "id": "e3bdcffe-e217-46f4-b8de-b32f6bce1b56",
   "metadata": {},
   "outputs": [],
   "source": [
    "seed=7\n",
    "num_trees=100\n",
    "k_fold=k"
   ]
  },
  {
   "cell_type": "code",
   "execution_count": null,
   "id": "3c7dc98a-9d92-4151-95e1-6cf47795c6f6",
   "metadata": {},
   "outputs": [],
   "source": []
  }
 ],
 "metadata": {
  "kernelspec": {
   "display_name": "Python [conda env:base] *",
   "language": "python",
   "name": "conda-base-py"
  },
  "language_info": {
   "codemirror_mode": {
    "name": "ipython",
    "version": 3
   },
   "file_extension": ".py",
   "mimetype": "text/x-python",
   "name": "python",
   "nbconvert_exporter": "python",
   "pygments_lexer": "ipython3",
   "version": "3.12.7"
  }
 },
 "nbformat": 4,
 "nbformat_minor": 5
}
